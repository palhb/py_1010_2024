{
 "cells": [
  {
   "cell_type": "markdown",
   "id": "56a85228-a82a-467e-b634-a46ee90662d8",
   "metadata": {},
   "source": [
    "# SUPPORT DASHBOARD"
   ]
  },
  {
   "cell_type": "markdown",
   "id": "9cb00ebd-fbaa-4360-bfad-e038758468d0",
   "metadata": {},
   "source": [
    "## Oppgaver"
   ]
  },
  {
   "cell_type": "markdown",
   "id": "e17d0c6e-2877-481c-9f62-8a2753a6c964",
   "metadata": {},
   "source": [
    "Del a) Skriv et program som leser inn filen ‘support_uke_24.xlsx’ og lagrer data fra kolonne 1\n",
    "i en array med variablenavn ‘u_dag’, dataen i kolonne 2 lagres i arrayen ‘kl_slett’, data i\n",
    "kolonne 3 lagres i arrayen ‘varighet’ og dataen i kolonne 4 lagres i arrayen ‘score’. Merk:\n",
    "filen ‘support_uke_24.xlsx’ må ligge i samme mappe som Python-programmet ditt.\n"
   ]
  },
  {
   "cell_type": "code",
   "execution_count": 4,
   "id": "454d1dc6-20f9-4796-b882-e8c5dc939740",
   "metadata": {},
   "outputs": [],
   "source": [
    "# import av bibliotker for hele notebooken\n",
    "\n",
    "import numpy as np\n",
    "import pandas as pd\n",
    "import matplotlib.pyplot as plt"
   ]
  },
  {
   "cell_type": "code",
   "execution_count": 5,
   "id": "69f73f93-6d8c-4a5c-a4ef-cc637f810ff6",
   "metadata": {},
   "outputs": [],
   "source": [
    "# Program som leser inn data fra excel fil og lagrer data i hver sin kolonne\n",
    "\n",
    "# Lese data fra fil og lagre i en dataframe\n",
    "\n",
    "support_df = pd.read_excel(\"support_uke_24.xlsx\")\n",
    "\n",
    "# Lage variabler for hver kolonne i den innleste filen. Dataene fra kollone lagres i en array\n",
    "\n",
    "u_dag = support_df['Ukedag'].values # Verdiene fra kolonne Ukedateg \n",
    "kl_slett = support_df['Klokkeslett'].values # Verdiene fra kolonne Klokkeslett\n",
    "varighet = support_df['Varighet'].values # Verdiene fra kolonne Varighet\n",
    "score = support_df['Tilfredshet'].values # Verdiene fra kolonne Tilfredshet\n"
   ]
  },
  {
   "cell_type": "markdown",
   "id": "cd8fe162-217c-4939-8aa6-b78345722555",
   "metadata": {},
   "source": [
    "Del b) Skriv et program som finner antall henvendelser for hver de 5 ukedagene. Resultatet\n",
    "visualiseres ved bruk av et søylediagram (stolpediagram)."
   ]
  },
  {
   "cell_type": "code",
   "execution_count": 7,
   "id": "a8f22bf1-92a2-4939-8b87-0fd6eea9de0c",
   "metadata": {
    "scrolled": true
   },
   "outputs": [],
   "source": [
    "# Program som teller antall oppføringer per ukedag\n",
    "\n",
    "# Variabler for alle ukedagene\n",
    "\n",
    "mandag = 0\n",
    "tirsdag = 0\n",
    "onsdag = 0\n",
    "torsdag = 0\n",
    "fredag = 0\n",
    "\n",
    "# while/if-ifelse struktør for å telle antall oppføringer per uke dag\n",
    "\n",
    "ukedag_index = 0 # Variabel å holde kontroll på index\n",
    "ukedag_lengde = len(u_dag) # Variabel for antall elementer i tabellen\n",
    "\n",
    "while ukedag_index < ukedag_lengde:\n",
    "\n",
    "    if u_dag[ukedag_index] == \"Mandag\":\n",
    "        mandag +=  1\n",
    "    elif u_dag[ukedag_index] == \"Tirsdag\":\n",
    "        tirsdag += 1\n",
    "    elif u_dag[ukedag_index] == \"Onsdag\":\n",
    "        onsdag += 1\n",
    "    elif u_dag[ukedag_index] == \"Torsdag\":\n",
    "        torsdag += 1\n",
    "    elif u_dag[ukedag_index] == \"Fredag\":\n",
    "        fredag += 1\n",
    "\n",
    "    ukedag_index += 1\n"
   ]
  },
  {
   "cell_type": "code",
   "execution_count": 8,
   "id": "abcdbab5-d154-45ba-ae9c-336404aea275",
   "metadata": {},
   "outputs": [
    {
     "data": {
      "text/plain": [
       "Text(0, 0.5, 'Antall henvendelser')"
      ]
     },
     "execution_count": 8,
     "metadata": {},
     "output_type": "execute_result"
    },
    {
     "data": {
      "image/png": "[encoded data removed]",
      "text/plain": [
       "<Figure size 640x480 with 1 Axes>"
      ]
     },
     "metadata": {},
     "output_type": "display_data"
    }
   ],
   "source": [
    "# Program for visualisering av resultatet\n",
    "\n",
    "ukedager = [\"Mandag\", \"Tirsdag\", \"Onsdag\", \"Torsdag\", \"Fredag\"] # X-aksen\n",
    "data = [mandag, tirsdag, onsdag, torsdag, fredag] # Y-aksen\n",
    "\n",
    "plt.bar(ukedager, data) # Selve søylediagrammet\n",
    "plt.title(\"Kundehenvendelser per dag for Morse\") # Tittel for diagrammet\n",
    "plt.xlabel(\"Ukedag\") # Tittel for X-aksen\n",
    "plt.ylabel(\"Antall henvendelser\") # Tittel for Y-aksen\n"
   ]
  },
  {
   "cell_type": "markdown",
   "id": "4d3991ab-4475-4f7d-89cb-f5903b71f7d4",
   "metadata": {},
   "source": [
    "Del c) Skriv et program som finner minste og lengste samtaletid som er loggført for uke 24.\n",
    "Svaret skrives til skjerm med informativ tekst."
   ]
  },
  {
   "cell_type": "code",
   "execution_count": 10,
   "id": "7c9aa479-cad4-48ac-9422-82bb932f5cce",
   "metadata": {},
   "outputs": [
    {
     "name": "stdout",
     "output_type": "stream",
     "text": [
      "For kundehenvendelser i uke 24 var den korteste samtalen på : 00:00:59\n",
      "For kundehenvendelser i uke 24 var den lengste samtalen på : 00:11:28\n",
      "(timer:minutter:sekunder)\n"
     ]
    }
   ],
   "source": [
    "# Program for å hente ut minimum og maksimumverdi fra en array\n",
    "\n",
    "# Variabler\n",
    "minimum = np.min(varighet)\n",
    "maksimum = np.max(varighet)\n",
    "\n",
    "print(f\"For kundehenvendelser i uke 24 var den korteste samtalen på :\", minimum)\n",
    "print(f\"For kundehenvendelser i uke 24 var den lengste samtalen på :\", maksimum)\n",
    "print(f\"(timer:minutter:sekunder)\")"
   ]
  },
  {
   "cell_type": "markdown",
   "id": "15afbb65-4c8c-4edb-9b39-92d399b9e677",
   "metadata": {},
   "source": [
    "Del d) Skriv et program som regner ut gjennomsnittlig samtaletid basert på alle\n",
    "henvendelser i uke 24"
   ]
  },
  {
   "cell_type": "code",
   "execution_count": 12,
   "id": "5c41d27f-06e3-40fc-99e4-fb73666c4c8e",
   "metadata": {},
   "outputs": [
    {
     "name": "stdout",
     "output_type": "stream",
     "text": [
      "Gjennomsnitt samtaletid for Morse uke 24: 00:06:40\n"
     ]
    }
   ],
   "source": [
    "# Program for å regne ut gjennomsnittlig samtaletid uke 24\n",
    "\n",
    "tid_i_sekunder = [] #Array for å få tidspunktene i antall sekunder\n",
    "\n",
    "for tid in varighet:\n",
    "    deler = tid.split(':')\n",
    "    timer = int(deler[0])\n",
    "    minutter = int(deler[1])\n",
    "    sekunder = int(deler[2])\n",
    "    \n",
    "    totalt = timer * 3600 + minutter * 60 + sekunder\n",
    "    tid_i_sekunder.append(totalt)\n",
    "\n",
    "#Utregning av gjennomsnitt\n",
    "gjennomsnitt = np.mean(tid_i_sekunder)\n",
    "\n",
    "sek = int(gjennomsnitt)  # Sekunder som heltall\n",
    "\n",
    "timer = sek // 3600\n",
    "minutter = (sek % 3600) // 60\n",
    "sekunder = sek % 60\n",
    "\n",
    "print(f\"Gjennomsnitt samtaletid for Morse uke 24: {timer:02}:{minutter:02}:{sekunder:02}\")\n"
   ]
  },
  {
   "cell_type": "markdown",
   "id": "0d13248f-40e4-4e79-82b4-3e92d59e5495",
   "metadata": {},
   "source": [
    "Del e) Supportvaktene i MORSE er delt inn i 2-timers bolker: kl 08-10, kl 10-12, kl 12-14 og kl\n",
    "14-16. Skriv et program som finner det totale antall henvendelser supportavdelingen mottok\n",
    "for hver av tidsrommene 08-10, 10-12, 12-14 og 14-16 for uke 24. Resultatet visualiseres ved\n",
    "bruk av et sektordiagram (kakediagram)."
   ]
  },
  {
   "cell_type": "code",
   "execution_count": 14,
   "id": "6ffb03ab-9021-4a37-90d6-3b51fe7069b6",
   "metadata": {},
   "outputs": [],
   "source": [
    "# Program for å telle antall henvendesler per tidsblokk\n",
    "\n",
    "#Variabler for tidsblokker\n",
    "tid_08_10 = 0\n",
    "tid_10_12 = 0\n",
    "tid_12_14 = 0\n",
    "tid_14_16 = 0\n",
    "\n",
    "klokkeslett_index = 0 # Variabel å holde kontroll på index\n",
    "klokkeslett_lengde = len(kl_slett) # Variabel for antall elementer i tabellen\n",
    "\n",
    "#While if struktur som løper gjennom alle klokkelsett og lagrer antall i variabler\n",
    "while klokkeslett_index < klokkeslett_lengde:\n",
    "    klokkeslett = kl_slett[klokkeslett_index]\n",
    "    time = int(klokkeslett.split(':')[0])\n",
    "\n",
    "\n",
    "    if 8 <= time < 10:\n",
    "        tid_08_10 += 1\n",
    "    elif 10<= time < 12:\n",
    "         tid_10_12 += 1\n",
    "    elif 12<= time < 14:\n",
    "         tid_12_14 += 1\n",
    "    elif 14<= time < 16:\n",
    "         tid_14_16 += 1\n",
    "    \n",
    "    klokkeslett_index += 1\n"
   ]
  },
  {
   "cell_type": "code",
   "execution_count": 15,
   "id": "b63a591e-6291-4056-ac60-54408612a2f1",
   "metadata": {},
   "outputs": [
    {
     "data": {
      "image/png": "[encoded data removed]",
      "text/plain": [
       "<Figure size 600x600 with 1 Axes>"
      ]
     },
     "metadata": {},
     "output_type": "display_data"
    }
   ],
   "source": [
    "# Program for visualisering av resultatet\n",
    "\n",
    "# Verdiene\n",
    "verdier = [tid_08_10, tid_10_12, tid_12_14, tid_14_16]\n",
    "tidsrom = ['08-10', '10-12', '12-14', '14-16']\n",
    "\n",
    "# Kakediagram\n",
    "plt.figure(figsize=(6, 6)) # Definerer størrelsen\n",
    "plt.pie(verdier, labels=tidsrom, autopct='%1.1f%%', startangle=90) # Verdier og lbale\n",
    "plt.title(\"Henvendelser per tidsrom\") # Tittel på diagrammet\n",
    "plt.axis('equal')  # Sørger for at sirkelen blir rund\n",
    "plt.show() #printer/plotter diagrammet"
   ]
  },
  {
   "cell_type": "markdown",
   "id": "fce022db-a7f1-4769-b183-0aebbbd7d159",
   "metadata": {},
   "source": [
    "Kundens tilfredshet loggføres som tall fra 1-10 hvor 1 indikerer svært misfornøyd og\n",
    "10 indikerer svært fornøyd. Disse tilbakemeldingene skal så overføres til NPS-systemet (Net\n",
    "Promoter Score)"
   ]
  },
  {
   "cell_type": "code",
   "execution_count": 17,
   "id": "4fdd00a1-0357-49dd-a18b-54213e285d59",
   "metadata": {},
   "outputs": [
    {
     "name": "stdout",
     "output_type": "stream",
     "text": [
      "NPS: 41.9\n"
     ]
    }
   ],
   "source": [
    "#Program for utregning av Morse sin NPS\n",
    "\n",
    "#Variabler for kundes tilbakemelding \n",
    "\n",
    "score_1_6 = 0\n",
    "score_7_8 = 0\n",
    "score_9_10 = 0\n",
    "score_nan = 0\n",
    "\n",
    "score_lengde = len(score) #Antall elementer i score\n",
    "score_index = 0 # Variabel å holde kontroll på index\n",
    "\n",
    "#While-elseif struktir for å kategorisere kundescore\n",
    "\n",
    "while score_index < score_lengde:\n",
    "    \n",
    "    if score[score_index] == 1:\n",
    "        score_1_6 += 1         \n",
    "    elif score[score_index] == 2:\n",
    "        score_1_6 += 1   \n",
    "    elif score[score_index] == 3:\n",
    "        score_1_6 += 1   \n",
    "    elif score[score_index] == 4:\n",
    "        score_1_6 += 1   \n",
    "    elif score[score_index] == 5:\n",
    "        score_1_6 += 1   \n",
    "    elif score[score_index] == 6:\n",
    "        score_1_6 += 1   \n",
    "    elif score[score_index] == 7:\n",
    "        score_7_8 += 1   \n",
    "    elif score[score_index] == 8:\n",
    "        score_7_8 += 1   \n",
    "    elif score[score_index] == 9:\n",
    "        score_9_10 += 1   \n",
    "    elif score[score_index] == 10:\n",
    "        score_9_10 += 1   \n",
    "    elif pd.isna(score[score_index]):\n",
    "        score_nan += 1 \n",
    " \n",
    "    score_index += 1\n",
    "\n",
    "#Utregning av NPS\n",
    "\n",
    "total = score_9_10 + score_7_8 + score_1_6 \n",
    "nps = (score_9_10 - score_1_6) / total * 100\n",
    "\n",
    "print(f\"NPS: {round(nps, 1)}\")\n"
   ]
  },
  {
   "cell_type": "code",
   "execution_count": null,
   "id": "9d531a25-9dd8-4453-b2de-90c0d02fb216",
   "metadata": {},
   "outputs": [],
   "source": []
  }
 ],
 "metadata": {
  "kernelspec": {
   "display_name": "Python [conda env:base] *",
   "language": "python",
   "name": "conda-base-py"
  },
  "language_info": {
   "codemirror_mode": {
    "name": "ipython",
    "version": 3
   },
   "file_extension": ".py",
   "mimetype": "text/x-python",
   "name": "python",
   "nbconvert_exporter": "python",
   "pygments_lexer": "ipython3",
   "version": "3.12.7"
  }
 },
 "nbformat": 4,
 "nbformat_minor": 5
}
